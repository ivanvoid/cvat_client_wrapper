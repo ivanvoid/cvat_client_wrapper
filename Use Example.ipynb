{
 "cells": [
  {
   "cell_type": "code",
   "execution_count": 1,
   "id": "7f230e0f-ec7b-4825-908f-76ab29e72868",
   "metadata": {},
   "outputs": [],
   "source": [
    "import os"
   ]
  },
  {
   "cell_type": "code",
   "execution_count": 3,
   "id": "acc7196a-cae1-41f7-b631-8f47353ef34f",
   "metadata": {},
   "outputs": [
    {
     "data": {
      "text/plain": [
       "['proc',\n",
       " 'var',\n",
       " 'sbin',\n",
       " 'mnt',\n",
       " 'home',\n",
       " 'snap',\n",
       " 'etc',\n",
       " 'bin.usr-is-merged',\n",
       " 'boot',\n",
       " 'opt',\n",
       " 'swap.img',\n",
       " 'bin',\n",
       " 'dev',\n",
       " 'cdrom',\n",
       " 'tmp',\n",
       " 'usr',\n",
       " 'lib.usr-is-merged',\n",
       " 'media',\n",
       " 'lost+found',\n",
       " 'lib',\n",
       " 'lib64',\n",
       " 'sys',\n",
       " 'run',\n",
       " 'srv',\n",
       " 'sbin.usr-is-merged',\n",
       " 'root']"
      ]
     },
     "execution_count": 3,
     "metadata": {},
     "output_type": "execute_result"
    }
   ],
   "source": [
    "os.listdir('/')"
   ]
  },
  {
   "cell_type": "code",
   "execution_count": null,
   "id": "a5363fc5-63dc-4d42-8073-f3830d0390a2",
   "metadata": {},
   "outputs": [],
   "source": []
  },
  {
   "cell_type": "code",
   "execution_count": null,
   "id": "90296d52-490a-46fd-af1f-c3843891ef5a",
   "metadata": {},
   "outputs": [],
   "source": []
  },
  {
   "cell_type": "code",
   "execution_count": null,
   "id": "390632f2-9546-4ab4-a3f5-c6ec259c54ce",
   "metadata": {},
   "outputs": [],
   "source": [
    "from cvat_client import CVATClient\n",
    "\n",
    "host = '10.127.0.146'\n",
    "port = '8080'\n",
    "login = 'cvat_test'\n",
    "password = 'QWERTY123q'\n",
    "\n",
    "cvat_writer = CVATClient(\n",
    "    host,port,\n",
    "    login, password\n",
    ")\n",
    "\n",
    "'''\n",
    "Create new PROJECT and populate it with new TASK\n",
    "'''\n",
    "# Create project\n",
    "project_name = 'New Test Project 1'\n",
    "project_labels = ['car', 'cat', 'dog']\n",
    "\n",
    "project = cvat_writer.create_project(project_name, project_labels)"
   ]
  },
  {
   "cell_type": "code",
   "execution_count": null,
   "id": "217e8096-945f-4584-a002-79c504c5e85d",
   "metadata": {},
   "outputs": [],
   "source": []
  },
  {
   "cell_type": "code",
   "execution_count": null,
   "id": "b6c1fa84-4bf7-4383-9220-06ed62366dfc",
   "metadata": {},
   "outputs": [],
   "source": []
  },
  {
   "cell_type": "code",
   "execution_count": null,
   "id": "fe2a75ac-bd82-4a9b-869e-90c4a022348f",
   "metadata": {},
   "outputs": [],
   "source": []
  },
  {
   "cell_type": "code",
   "execution_count": null,
   "id": "b085e322-8013-4255-917b-0063766fedbf",
   "metadata": {},
   "outputs": [],
   "source": []
  },
  {
   "cell_type": "code",
   "execution_count": null,
   "id": "056a80f4-7c9e-4e82-a044-b05608aa6d7e",
   "metadata": {},
   "outputs": [],
   "source": []
  },
  {
   "cell_type": "code",
   "execution_count": null,
   "id": "54fdc72c-827c-479b-8587-8c556f81160b",
   "metadata": {},
   "outputs": [],
   "source": []
  }
 ],
 "metadata": {
  "kernelspec": {
   "display_name": "Python 3 (ipykernel)",
   "language": "python",
   "name": "python3"
  },
  "language_info": {
   "codemirror_mode": {
    "name": "ipython",
    "version": 3
   },
   "file_extension": ".py",
   "mimetype": "text/x-python",
   "name": "python",
   "nbconvert_exporter": "python",
   "pygments_lexer": "ipython3",
   "version": "3.12.3"
  }
 },
 "nbformat": 4,
 "nbformat_minor": 5
}
